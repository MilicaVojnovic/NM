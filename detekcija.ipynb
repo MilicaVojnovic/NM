{
 "cells": [
  {
   "cell_type": "code",
   "execution_count": 14,
   "metadata": {},
   "outputs": [],
   "source": [
    "import numpy as np\n",
    "import os\n",
    "import cv2\n",
    "import matplotlib.pyplot as plt\n"
   ]
  },
  {
   "cell_type": "code",
   "execution_count": 15,
   "metadata": {},
   "outputs": [],
   "source": [
    "def people_with_mask():\n",
    "    \n",
    "    brojac = 0\n",
    "    path = \"C:/Users/W10/Desktop/NM/archive (1)/data/with_mask/\"\n",
    "    \n",
    "    for image_src in os.listdir(path):\n",
    "    \n",
    "        mouthCascade = cv2.CascadeClassifier(cv2.data.haarcascades + 'haarcascade_smile.xml')\n",
    "        faceCascade = cv2.CascadeClassifier(cv2.data.haarcascades + 'haarcascade_frontalface_default.xml')\n",
    "    \n",
    "        image = cv2.imread(path + image_src)\n",
    "\n",
    "\n",
    "        gray = cv2.cvtColor(image, cv2.COLOR_BGR2GRAY)\n",
    "\n",
    "        mouth = mouthCascade.detectMultiScale(gray, 1.3, 5)\n",
    "        faces = faceCascade.detectMultiScale(\n",
    "            gray,\n",
    "            scaleFactor=1.1,\n",
    "            minNeighbors=5,\n",
    "            minSize=(30, 30)\n",
    "        )\n",
    "    \n",
    "        # Draw a rectangle around the faces\n",
    "        for (x, y, w, h) in faces:\n",
    "            cv2.rectangle(image, (x, y), (x+w, y+h), (255, 0, 0), 2)\n",
    "            # Draw a rectangle around the faces\n",
    "            roi_gray_mouth = gray[y+(int(h/2)):y+h, x:x+w]\n",
    "            roi_color_mouth = image[y+(int(h/2)):y+h, x:x+w]\n",
    "\n",
    "            mouth = mouthCascade.detectMultiScale(roi_gray_mouth)\n",
    "        \n",
    "            if len(mouth) == 0:\n",
    "                brojac = brojac\n",
    "\n",
    "            else:\n",
    "                brojac = brojac + 1\n",
    "\n",
    "        \n",
    "            for (ex,ey,ew,eh) in mouth:\n",
    "                cv2.rectangle(roi_color_mouth, (ex, ey), (ex+ew, ey+eh), (0, 255, 0), 2)\n",
    "\n",
    "    return brojac\n"
   ]
  },
  {
   "cell_type": "code",
   "execution_count": 16,
   "metadata": {},
   "outputs": [],
   "source": [
    "def people_without_mask():\n",
    "    \n",
    "    brojac = 0\n",
    "    path = \"C:/Users/W10/Desktop/NM/archive (1)/data/without_mask/\"\n",
    "    \n",
    "    for image_src in os.listdir(path):\n",
    "    \n",
    "        mouthCascade = cv2.CascadeClassifier(cv2.data.haarcascades + 'haarcascade_smile.xml')\n",
    "        faceCascade = cv2.CascadeClassifier(cv2.data.haarcascades + 'haarcascade_frontalface_default.xml')\n",
    "    \n",
    "        image = cv2.imread(path + image_src)\n",
    "\n",
    "\n",
    "        gray = cv2.cvtColor(image, cv2.COLOR_BGR2GRAY)\n",
    "\n",
    "        mouth = mouthCascade.detectMultiScale(gray, 1.3, 5)\n",
    "        faces = faceCascade.detectMultiScale(\n",
    "            gray,\n",
    "            scaleFactor=1.1,\n",
    "            minNeighbors=5,\n",
    "            minSize=(30, 30)\n",
    "        )\n",
    "    \n",
    "        # Draw a rectangle around the faces\n",
    "        for (x, y, w, h) in faces:\n",
    "            cv2.rectangle(image, (x, y), (x+w, y+h), (255, 0, 0), 2)\n",
    "            # Draw a rectangle around the faces\n",
    "            roi_gray_mouth = gray[y+(int(h/2)):y+h, x:x+w]\n",
    "            roi_color_mouth = image[y+(int(h/2)):y+h, x:x+w]\n",
    "\n",
    "            mouth = mouthCascade.detectMultiScale(roi_gray_mouth)\n",
    "        \n",
    "            if len(mouth) == 0:\n",
    "                brojac = brojac\n",
    "\n",
    "            else:\n",
    "                brojac = brojac + 1\n",
    "        \n",
    "            for (ex,ey,ew,eh) in mouth:\n",
    "                cv2.rectangle(roi_color_mouth, (ex, ey), (ex+ew, ey+eh), (0, 255, 0), 2)\n",
    "\n",
    "    return brojac\n"
   ]
  },
  {
   "cell_type": "code",
   "execution_count": 17,
   "metadata": {},
   "outputs": [
    {
     "name": "stdout",
     "output_type": "stream",
     "text": [
      "89.98657718120805\n"
     ]
    }
   ],
   "source": [
    "p1 = people_with_mask()\n",
    "p2 = people_without_mask()\n",
    "\n",
    "result = (p1+p2)*100/3725\n",
    "\n",
    "print(result)"
   ]
  },
  {
   "cell_type": "code",
   "execution_count": null,
   "metadata": {},
   "outputs": [],
   "source": [
    "\n"
   ]
  }
 ],
 "metadata": {
  "kernelspec": {
   "display_name": "Python 3",
   "language": "python",
   "name": "python3"
  },
  "language_info": {
   "codemirror_mode": {
    "name": "ipython",
    "version": 3
   },
   "file_extension": ".py",
   "mimetype": "text/x-python",
   "name": "python",
   "nbconvert_exporter": "python",
   "pygments_lexer": "ipython3",
   "version": "3.7.6"
  }
 },
 "nbformat": 4,
 "nbformat_minor": 4
}
